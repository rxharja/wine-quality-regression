{
 "cells": [
  {
   "cell_type": "code",
   "execution_count": 1,
   "metadata": {},
   "outputs": [],
   "source": [
    "# Import necessary libraries\n",
    "import numpy as np\n",
    "import matplotlib.pyplot as plt\n",
    "import os"
   ]
  },
  {
   "cell_type": "code",
   "execution_count": 2,
   "metadata": {},
   "outputs": [],
   "source": [
    "# Import dataset, initialize theta matrix, and set X matrix and y vector\n",
    "fname = os.path.join(\".\", \"winequality-red.csv\")\n",
    "data = np.loadtxt(fname, skiprows=1, delimiter=\";\")\n",
    "\n",
    "# get data shape\n",
    "M,N = np.shape(data)\n",
    "\n",
    "# matrices\n",
    "y = np.reshape(data[:,-1], (M,1))\n",
    "X = np.c_[np.ones(M), data[:,:-1]]\n",
    "theta = np.zeros(N)\n",
    "\n",
    "# print(y)\n",
    "# print(theta)\n",
    "# print(X)\n",
    "# print(data)"
   ]
  },
  {
   "cell_type": "code",
   "execution_count": 3,
   "metadata": {},
   "outputs": [],
   "source": [
    "# normalize X data\n",
    "avg = np.average(X[:, 1:], 0)\n",
    "std = np.std(X[:, 1:], 0)\n",
    "X[:,1:] = (X[:,1:] - avg) / std\n"
   ]
  },
  {
   "cell_type": "code",
   "execution_count": 4,
   "metadata": {},
   "outputs": [],
   "source": [
    "# implement the cost function\n",
    "# hypothesis function is theta transposed multiplied by X\n",
    "def compute_cost(X, y, theta):\n",
    "    J = (1/(2*M)) * np.sum((np.reshape(np.sum(theta * X, 1), (M, 1)) - y)**2)\n",
    "#     print(J)\n",
    "    return J"
   ]
  },
  {
   "cell_type": "code",
   "execution_count": 5,
   "metadata": {},
   "outputs": [],
   "source": [
    "# implement gradient descent\n",
    "alpha = 0.3\n",
    "num_iters = np.arange(1000)\n",
    "cost_data = np.zeros(len(num_iters))\n",
    "def gradient_descent(X, y, theta, alpha, num_iters):\n",
    "    for i in num_iters:\n",
    "        theta = theta - alpha*(1/M)*np.sum((np.reshape(np.sum(theta*X, 1), (M, 1)) - y) * X, 0)\n",
    "        cost_data[i] = compute_cost(X, y, theta)\n",
    "    return theta"
   ]
  },
  {
   "cell_type": "code",
   "execution_count": 6,
   "metadata": {},
   "outputs": [
    {
     "data": {
      "text/plain": [
       "Text(0.5, 1.0, 'Cost Value of J at each Iteration')"
      ]
     },
     "execution_count": 6,
     "metadata": {},
     "output_type": "execute_result"
    },
    {
     "data": {
      "image/png": "[encoded data removed]",
      "text/plain": [
       "<Figure size 432x288 with 1 Axes>"
      ]
     },
     "metadata": {
      "needs_background": "light"
     },
     "output_type": "display_data"
    }
   ],
   "source": [
    "theta = gradient_descent(X, y, theta, alpha, num_iters)\n",
    "# plot the cost of J to see if it is dropping logarithmically\n",
    "plt.plot(num_iters, cost_data, 'r')\n",
    "plt.xlabel('Num Iterations')\n",
    "plt.ylabel('Cost')\n",
    "plt.title('Cost Value of J at each Iteration')"
   ]
  },
  {
   "cell_type": "code",
   "execution_count": 7,
   "metadata": {},
   "outputs": [
    {
     "name": "stdout",
     "output_type": "stream",
     "text": [
      "6.0115233501358105\n"
     ]
    }
   ],
   "source": [
    "# set parameters: \n",
    "# fixed acidity: 5, volatile acidity: 0.2, citric acid: 0, residual sugar: 0.5, chlorides: 0.075\n",
    "# free sulfur dioxide: 5, total sulfur dioxide: 20, density: 0.997, pH: 3.5, sulphates: 0.3\n",
    "# alcohol: 12\n",
    "parameters = np.array([5, 0.2, 0, 0.5, 0.075, 5, 20, 0.997, 3.5, 0.3, 12])\n",
    "\n",
    "#Normalize our parameters\n",
    "parameters = np.append([1], [(parameters - avg) / std])\n",
    "\n",
    "# Predict cost\n",
    "print(parameters @ theta.T)"
   ]
  },
  {
   "cell_type": "code",
   "execution_count": 8,
   "metadata": {},
   "outputs": [],
   "source": [
    "# Repeat the process with the normal equation and multivariate linear regression matrix cost function\n",
    "# matrices\n",
    "y = np.reshape(data[:,-1], (M,1))\n",
    "X = np.c_[np.ones(M), data[:,:-1]]\n",
    "theta = np.zeros(N)"
   ]
  },
  {
   "cell_type": "code",
   "execution_count": 9,
   "metadata": {},
   "outputs": [],
   "source": [
    "def cost_multi(X, y, theta):\n",
    "    return ((1/(2*M)) * (np.reshape(X @ theta, (M,1)) - y).T @ (np.reshape(X @ theta, (M, 1)) - y))[0][0]"
   ]
  },
  {
   "cell_type": "code",
   "execution_count": 10,
   "metadata": {},
   "outputs": [
    {
     "name": "stdout",
     "output_type": "stream",
     "text": [
      "16.208255159474675\n",
      "16.20825515947467\n"
     ]
    }
   ],
   "source": [
    "# checking to make sure vectorized multivariate cost function is same output as previous\n",
    "print(cost_multi(X, y, theta))\n",
    "print(compute_cost(X, y, theta))\n"
   ]
  },
  {
   "cell_type": "code",
   "execution_count": 11,
   "metadata": {},
   "outputs": [],
   "source": [
    "# instead of iterating through gradient descent and normalizing data, implement normal equation\n",
    "def normal_equation(X, y, theta):\n",
    "    return np.linalg.inv((X.T @ X)) @ X.T @ y\n"
   ]
  },
  {
   "cell_type": "code",
   "execution_count": 12,
   "metadata": {},
   "outputs": [],
   "source": [
    "# assign theta to normal equation outputs\n",
    "theta = normal_equation(X, y, theta)"
   ]
  },
  {
   "cell_type": "code",
   "execution_count": 13,
   "metadata": {},
   "outputs": [
    {
     "name": "stdout",
     "output_type": "stream",
     "text": [
      "6.0115233491251985\n"
     ]
    }
   ],
   "source": [
    "# Make prediction based on normal equation, this time without normalizing parameters\n",
    "# set parameters: \n",
    "# fixed acidity: 5, volatile acidity: 0.2, citric acid: 0, residual sugar: 0.5, chlorides: 0.075\n",
    "# free sulfur dioxide: 5, total sulfur dioxide: 20, density: 0.997, pH: 3.5, sulphates: 0.3\n",
    "# alcohol: 12\n",
    "parameters = np.array([1, 5, 0.2, 0, 0.5, 0.075, 5, 20, 0.997, 3.5, 0.3, 12])\n",
    "\n",
    "print((parameters @ theta)[0])"
   ]
  },
  {
   "cell_type": "code",
   "execution_count": 14,
   "metadata": {},
   "outputs": [],
   "source": [
    "# testing kernel\n",
    "print(parameters)"
   ]
  }
 ],
 "metadata": {
  "kernelspec": {
   "display_name": "Python 3",
   "language": "python",
   "name": "python3"
  },
  "language_info": {
   "codemirror_mode": {
    "name": "ipython",
    "version": 3
   },
   "file_extension": ".py",
   "mimetype": "text/x-python",
   "name": "python",
   "nbconvert_exporter": "python",
   "pygments_lexer": "ipython3",
   "version": "3.8.3"
  }
 },
 "nbformat": 4,
 "nbformat_minor": 4
}